{
 "cells": [
  {
   "cell_type": "code",
   "execution_count": 1,
   "id": "meaning-peter",
   "metadata": {},
   "outputs": [],
   "source": [
    "from IPython.display import display, Markdown\n",
    "from IPython.display import Image"
   ]
  },
  {
   "cell_type": "code",
   "execution_count": 2,
   "id": "corresponding-accent",
   "metadata": {},
   "outputs": [],
   "source": [
    "import datetime\n",
    "from collections import defaultdict"
   ]
  },
  {
   "cell_type": "markdown",
   "id": "actual-faculty",
   "metadata": {},
   "source": [
    "## Reading data"
   ]
  },
  {
   "cell_type": "code",
   "execution_count": 3,
   "id": "divided-dubai",
   "metadata": {},
   "outputs": [],
   "source": [
    "import jsonpickle\n",
    "flight_data = jsonpickle.decode(open('flight_data.json', 'r').read())"
   ]
  },
  {
   "cell_type": "code",
   "execution_count": 4,
   "id": "weekly-origin",
   "metadata": {},
   "outputs": [
    {
     "data": {
      "text/plain": [
       "{'flightid': '1441220',\n",
       " 'name': 'Uwe Wehding',\n",
       " 'date': datetime.date(2021, 9, 12),\n",
       " 'pilotid': '11606',\n",
       " 'take_off': 'Schauinsland - DE',\n",
       " 'landing': 'Schauinsland - DE\\xa0[~3.2]',\n",
       " 'take_off_time': datetime.timedelta(seconds=60919),\n",
       " 'duration': datetime.timedelta(seconds=2759),\n",
       " 'max_alt': 1121,\n",
       " 'luftlinie': 4.2,\n",
       " 'schirm': 'Skywalk Arak - S [LTF 1/2]'}"
      ]
     },
     "metadata": {},
     "output_type": "display_data"
    }
   ],
   "source": [
    "display(flight_data[0])"
   ]
  },
  {
   "cell_type": "markdown",
   "id": "meaningful-musical",
   "metadata": {},
   "source": [
    "## Selecting date range"
   ]
  },
  {
   "cell_type": "code",
   "execution_count": 5,
   "id": "indie-raising",
   "metadata": {},
   "outputs": [
    {
     "name": "stdout",
     "output_type": "stream",
     "text": [
      "Flights before: 3005\n",
      "Flights after: 1894\n"
     ]
    }
   ],
   "source": [
    "FIRST_DAY = datetime.date(2021,1,1)\n",
    "LAST_DAY = datetime.date(2022,12,31)\n",
    "print(f\"Flights before: {len(flight_data)}\")\n",
    "flight_data = list(filter(lambda fd: FIRST_DAY <= fd['date'] and fd['date'] <= LAST_DAY, flight_data))\n",
    "print(f\"Flights after: {len(flight_data)}\")"
   ]
  },
  {
   "cell_type": "markdown",
   "id": "weird-addition",
   "metadata": {},
   "source": [
    "## Simple stats"
   ]
  },
  {
   "cell_type": "code",
   "execution_count": 6,
   "id": "public-medium",
   "metadata": {},
   "outputs": [
    {
     "name": "stdout",
     "output_type": "stream",
     "text": [
      "Voki am Schaui:\n",
      "Total flights: 309\n",
      "Total flying time: 4 days, 15:29:01\n",
      "Average flying time: 0:21:38.838188\n",
      "Median flying time: 0:15:26\n",
      "Total luftlinie: 1532.0000000000011 km\n",
      "Average luftline: 4.9579288025890005 km\n",
      "Median luftlinie: 3.7 km\n",
      "Number of gliders: 6\n"
     ]
    },
    {
     "data": {
      "text/markdown": [
       "\n",
       "**Maximum flying time:**: Flug [1354845](https://www.dhv-xc.de/leonardo/index.php?op=show_flight&flightID=1354845): Volker Jung am 2021-03-24 um 14:17:05 für 1:47:31 bis 8.4km auf 1405m\n",
       "    "
      ],
      "text/plain": [
       "<IPython.core.display.Markdown object>"
      ]
     },
     "metadata": {},
     "output_type": "display_data"
    },
    {
     "data": {
      "text/markdown": [
       "\n",
       "**Maximum luftlinie:**: Flug [1368665](https://www.dhv-xc.de/leonardo/index.php?op=show_flight&flightID=1368665): Volker Jung am 2021-04-24 um 17:47:14 für 1:05:48 bis 22.5km auf 2021m\n",
       "    "
      ],
      "text/plain": [
       "<IPython.core.display.Markdown object>"
      ]
     },
     "metadata": {},
     "output_type": "display_data"
    },
    {
     "data": {
      "text/markdown": [
       "\n",
       "**Maximum height:**: Flug [1391315](https://www.dhv-xc.de/leonardo/index.php?op=show_flight&flightID=1391315): Volker Jung am 2021-06-16 um 17:56:09 für 1:05:54 bis 20.8km auf 2800m\n",
       "    "
      ],
      "text/plain": [
       "<IPython.core.display.Markdown object>"
      ]
     },
     "metadata": {},
     "output_type": "display_data"
    },
    {
     "data": {
      "text/markdown": [
       "\n",
       "**Minimum flying time:**: Flug [1471757](https://www.dhv-xc.de/leonardo/index.php?op=show_flight&flightID=1471757): Volker Jung am 2021-12-21 um 15:12:50 für 0:08:46 bis 3.1km auf 1158m\n",
       "    "
      ],
      "text/plain": [
       "<IPython.core.display.Markdown object>"
      ]
     },
     "metadata": {},
     "output_type": "display_data"
    },
    {
     "data": {
      "text/markdown": [
       "\n",
       "**Longest low flight time:**: Flug [1388896](https://www.dhv-xc.de/leonardo/index.php?op=show_flight&flightID=1388896): Volker Jung am 2021-06-13 um 9:39:17 für 1:13:31 bis 3.1km auf 1164m\n",
       "    "
      ],
      "text/plain": [
       "<IPython.core.display.Markdown object>"
      ]
     },
     "metadata": {},
     "output_type": "display_data"
    },
    {
     "data": {
      "text/markdown": [
       "\n",
       "**Farthest low flight time:**: Flug [1372474](https://www.dhv-xc.de/leonardo/index.php?op=show_flight&flightID=1372474): Volker Jung am 2021-05-02 um 8:44:50 für 0:16:00 bis 8.0km auf 1151m\n",
       "    "
      ],
      "text/plain": [
       "<IPython.core.display.Markdown object>"
      ]
     },
     "metadata": {},
     "output_type": "display_data"
    },
    {
     "name": "stdout",
     "output_type": "stream",
     "text": [
      "Voki am Lindenberg:\n",
      "Total flights: 153\n",
      "Total flying time: 11:43:02\n",
      "Average flying time: 0:04:35.699346\n",
      "Median flying time: 0:04:38\n",
      "Total luftlinie: 136.70000000000013 km\n",
      "Average luftline: 0.8934640522875825 km\n",
      "Median luftlinie: 0.9 km\n",
      "Number of gliders: 5\n"
     ]
    },
    {
     "data": {
      "text/markdown": [
       "\n",
       "**Maximum flying time:**: Flug [1395857](https://www.dhv-xc.de/leonardo/index.php?op=show_flight&flightID=1395857): Volker Jung am 2021-06-25 um 12:24:21 für 0:06:59 bis 0.8km auf 689m\n",
       "    "
      ],
      "text/plain": [
       "<IPython.core.display.Markdown object>"
      ]
     },
     "metadata": {},
     "output_type": "display_data"
    },
    {
     "data": {
      "text/markdown": [
       "\n",
       "**Maximum luftlinie:**: Flug [1373941](https://www.dhv-xc.de/leonardo/index.php?op=show_flight&flightID=1373941): Volker Jung am 2021-05-08 um 19:58:42 für 0:05:51 bis 2.3km auf 676m\n",
       "    "
      ],
      "text/plain": [
       "<IPython.core.display.Markdown object>"
      ]
     },
     "metadata": {},
     "output_type": "display_data"
    },
    {
     "data": {
      "text/markdown": [
       "\n",
       "**Maximum height:**: Flug [1344722](https://www.dhv-xc.de/leonardo/index.php?op=show_flight&flightID=1344722): Volker Jung am 2021-02-17 um 18:03:20 für 0:02:55 bis 0.9km auf 717m\n",
       "    "
      ],
      "text/plain": [
       "<IPython.core.display.Markdown object>"
      ]
     },
     "metadata": {},
     "output_type": "display_data"
    },
    {
     "data": {
      "text/markdown": [
       "\n",
       "**Minimum flying time:**: Flug [1415379](https://www.dhv-xc.de/leonardo/index.php?op=show_flight&flightID=1415379): Volker Jung am 2021-07-31 um 7:33:19 für 0:02:07 bis 0.5km auf 621m\n",
       "    "
      ],
      "text/plain": [
       "<IPython.core.display.Markdown object>"
      ]
     },
     "metadata": {},
     "output_type": "display_data"
    },
    {
     "data": {
      "text/markdown": [
       "\n",
       "**Longest low flight time:**: Flug [1395857](https://www.dhv-xc.de/leonardo/index.php?op=show_flight&flightID=1395857): Volker Jung am 2021-06-25 um 12:24:21 für 0:06:59 bis 0.8km auf 689m\n",
       "    "
      ],
      "text/plain": [
       "<IPython.core.display.Markdown object>"
      ]
     },
     "metadata": {},
     "output_type": "display_data"
    },
    {
     "data": {
      "text/markdown": [
       "\n",
       "**Farthest low flight time:**: Flug [1373941](https://www.dhv-xc.de/leonardo/index.php?op=show_flight&flightID=1373941): Volker Jung am 2021-05-08 um 19:58:42 für 0:05:51 bis 2.3km auf 676m\n",
       "    "
      ],
      "text/plain": [
       "<IPython.core.display.Markdown object>"
      ]
     },
     "metadata": {},
     "output_type": "display_data"
    }
   ],
   "source": [
    "import statistics\n",
    "\n",
    "by_id = { fd['flightid']: fd for fd in flight_data}\n",
    "def pf(t, fd):\n",
    "    display(Markdown(f\"\"\"\n",
    "**{t}**: Flug [{fd['flightid']}](https://www.dhv-xc.de/leonardo/index.php?op=show_flight&flightID={fd['flightid']}): {fd['name']} am {fd['date']} um {fd['take_off_time']} für {fd['duration']} bis {fd['luftlinie']}km auf {fd['max_alt']}m\n",
    "    \"\"\"))\n",
    "    \n",
    "def flight_data_stats(flight_data):   \n",
    "    print(f\"Total flights: {len(flight_data)}\")\n",
    "    total_duration = sum([fd['duration'] for fd in flight_data], datetime.timedelta(0))\n",
    "    print(f\"Total flying time: {total_duration}\")\n",
    "    print(f\"Average flying time: {total_duration / len(flight_data)}\")\n",
    "    print(f\"Median flying time: {statistics.median([fd['duration'] for fd in flight_data])}\")\n",
    "    print(f\"Total luftlinie: {sum([fd['luftlinie'] for fd in flight_data])} km\")\n",
    "    print(f\"Average luftline: {sum([fd['luftlinie'] for fd in flight_data]) / len(flight_data)} km\")\n",
    "    print(f\"Median luftlinie: {statistics.median([fd['luftlinie'] for fd in flight_data])} km\")\n",
    "    print(f\"Number of gliders: {len(set(fd['schirm'] for fd in flight_data))}\")\n",
    "    \n",
    "    pf(\"Maximum flying time\",  max(flight_data, key = lambda fd: fd['duration']))\n",
    "    pf(\"Maximum luftlinie\", max(flight_data, key = lambda fd: fd['luftlinie']))\n",
    "    pf(\"Maximum height\",  max(flight_data, key = lambda fd: fd['max_alt']))\n",
    "    pf(\"Minimum flying time\",  min(flight_data, key = lambda fd: fd['duration']))\n",
    "\n",
    "    pf(\"Longest low flight time\", max([ fd for fd in flight_data if fd['max_alt'] < 1170], key = lambda fd: fd['duration']))\n",
    "    pf(\"Farthest low flight\", max([ fd for fd in flight_data if fd['max_alt'] < 1170], key = lambda fd: fd['luftlinie']))\n",
    "\n",
    "\n",
    "print(\"Voki am Schaui:\")\n",
    "flight_data_stats([fd for fd in flight_data if fd['name'] == \"Volker Jung\" and fd['take_off'].startswith(\"Schauinsland\")])\n",
    "print(\"Voki am Lindenberg:\")\n",
    "flight_data_stats([fd for fd in flight_data if fd['name'] == \"Volker Jung\" and fd['take_off'].startswith(\"Lindenberg\")])"
   ]
  }
 ],
 "metadata": {
  "kernelspec": {
   "display_name": "Python 3",
   "language": "python",
   "name": "python3"
  },
  "language_info": {
   "codemirror_mode": {
    "name": "ipython",
    "version": 3
   },
   "file_extension": ".py",
   "mimetype": "text/x-python",
   "name": "python",
   "nbconvert_exporter": "python",
   "pygments_lexer": "ipython3",
   "version": "3.9.6"
  }
 },
 "nbformat": 4,
 "nbformat_minor": 5
}
